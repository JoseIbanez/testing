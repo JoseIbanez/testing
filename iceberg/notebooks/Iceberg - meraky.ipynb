{
 "cells": [
  {
   "cell_type": "code",
   "execution_count": 1,
   "id": "0254b077-0c38-4533-a826-fa34f6fd5ecd",
   "metadata": {},
   "outputs": [],
   "source": [
    "from pyspark.sql import functions as sf\n"
   ]
  },
  {
   "cell_type": "code",
   "execution_count": 6,
   "id": "90706bdb-d7ec-4a79-8c91-93bf2787e53b",
   "metadata": {},
   "outputs": [],
   "source": [
    "\n",
    "from pyspark.sql.types import StructType, StructField, StringType, DoubleType, TimestampType, TimestampNTZType, MapType\n",
    "\n",
    "schema = StructType([\n",
    "    StructField(\"_source\",StructType([\n",
    "        StructField(\"customer\",StringType()),\n",
    "        StructField(\"customerID\",StringType()),\n",
    "        StructField(\"eventId\",StringType()),\n",
    "        StructField(\"eventTime\",TimestampType()),\n",
    "        StructField(\"metricTimestamp\",TimestampType()),        \n",
    "        StructField(\"domain\",StringType()),\n",
    "        StructField(\"resource\",StringType()),\n",
    "        StructField(\"metricName\",StringType()),\n",
    "        StructField(\"metricValue\",DoubleType()),\n",
    "        StructField(\"deviceName\",StringType()),\n",
    "        StructField(\"destDeviceName\",StringType()),\n",
    "        StructField(\"interfaceName\",StringType()),\n",
    "        StructField(\"destInterfaceName\",StringType()),\n",
    "        ]))\n",
    "    ])\n",
    "\n",
    "\n",
    "\n"
   ]
  },
  {
   "cell_type": "code",
   "execution_count": null,
   "id": "7bccb3ea-41ed-43b9-8a2e-0feb56d5d9e2",
   "metadata": {},
   "outputs": [
    {
     "ename": "ParseException",
     "evalue": "\n[PARSE_SYNTAX_ERROR] Syntax error at or near '/': extra input '/'.(line 3, pos 0)\n\n== SQL ==\n\nDROP TABLE nyc.meraki_31_latency;\n//DROP TABLE nyc.meraki_latency;\n^^^\n",
     "output_type": "error",
     "traceback": [
      "\u001b[0;31m---------------------------------------------------------------------------\u001b[0m",
      "\u001b[0;31mParseException\u001b[0m                            Traceback (most recent call last)",
      "Cell \u001b[0;32mIn[15], line 1\u001b[0m\n\u001b[0;32m----> 1\u001b[0m \u001b[43mget_ipython\u001b[49m\u001b[43m(\u001b[49m\u001b[43m)\u001b[49m\u001b[38;5;241;43m.\u001b[39;49m\u001b[43mrun_cell_magic\u001b[49m\u001b[43m(\u001b[49m\u001b[38;5;124;43m'\u001b[39;49m\u001b[38;5;124;43msql\u001b[39;49m\u001b[38;5;124;43m'\u001b[39;49m\u001b[43m,\u001b[49m\u001b[43m \u001b[49m\u001b[38;5;124;43m'\u001b[39;49m\u001b[38;5;124;43m'\u001b[39;49m\u001b[43m,\u001b[49m\u001b[43m \u001b[49m\u001b[38;5;124;43m'\u001b[39;49m\u001b[38;5;130;43;01m\\n\u001b[39;49;00m\u001b[38;5;124;43mDROP TABLE nyc.meraki_31_latency;\u001b[39;49m\u001b[38;5;130;43;01m\\n\u001b[39;49;00m\u001b[38;5;124;43m//DROP TABLE nyc.meraki_latency;\u001b[39;49m\u001b[38;5;130;43;01m\\n\u001b[39;49;00m\u001b[38;5;124;43m'\u001b[39;49m\u001b[43m)\u001b[49m\n",
      "File \u001b[0;32m/usr/local/lib/python3.10/site-packages/IPython/core/interactiveshell.py:2543\u001b[0m, in \u001b[0;36mInteractiveShell.run_cell_magic\u001b[0;34m(self, magic_name, line, cell)\u001b[0m\n\u001b[1;32m   2541\u001b[0m \u001b[38;5;28;01mwith\u001b[39;00m \u001b[38;5;28mself\u001b[39m\u001b[38;5;241m.\u001b[39mbuiltin_trap:\n\u001b[1;32m   2542\u001b[0m     args \u001b[38;5;241m=\u001b[39m (magic_arg_s, cell)\n\u001b[0;32m-> 2543\u001b[0m     result \u001b[38;5;241m=\u001b[39m \u001b[43mfn\u001b[49m\u001b[43m(\u001b[49m\u001b[38;5;241;43m*\u001b[39;49m\u001b[43margs\u001b[49m\u001b[43m,\u001b[49m\u001b[43m \u001b[49m\u001b[38;5;241;43m*\u001b[39;49m\u001b[38;5;241;43m*\u001b[39;49m\u001b[43mkwargs\u001b[49m\u001b[43m)\u001b[49m\n\u001b[1;32m   2545\u001b[0m \u001b[38;5;66;03m# The code below prevents the output from being displayed\u001b[39;00m\n\u001b[1;32m   2546\u001b[0m \u001b[38;5;66;03m# when using magics with decorator @output_can_be_silenced\u001b[39;00m\n\u001b[1;32m   2547\u001b[0m \u001b[38;5;66;03m# when the last Python token in the expression is a ';'.\u001b[39;00m\n\u001b[1;32m   2548\u001b[0m \u001b[38;5;28;01mif\u001b[39;00m \u001b[38;5;28mgetattr\u001b[39m(fn, magic\u001b[38;5;241m.\u001b[39mMAGIC_OUTPUT_CAN_BE_SILENCED, \u001b[38;5;28;01mFalse\u001b[39;00m):\n",
      "File \u001b[0;32m~/.ipython/profile_default/startup/00-prettytables.py:81\u001b[0m, in \u001b[0;36msql\u001b[0;34m(line, cell)\u001b[0m\n\u001b[1;32m     79\u001b[0m         \u001b[38;5;28;01mreturn\u001b[39;00m _to_table(df, num_rows\u001b[38;5;241m=\u001b[39margs\u001b[38;5;241m.\u001b[39mlimit)\n\u001b[1;32m     80\u001b[0m \u001b[38;5;28;01melse\u001b[39;00m:\n\u001b[0;32m---> 81\u001b[0m     \u001b[38;5;28;01mreturn\u001b[39;00m _to_table(\u001b[43mspark\u001b[49m\u001b[38;5;241;43m.\u001b[39;49m\u001b[43msql\u001b[49m\u001b[43m(\u001b[49m\u001b[43mcell\u001b[49m\u001b[43m)\u001b[49m)\n",
      "File \u001b[0;32m/opt/spark/python/pyspark/sql/session.py:1631\u001b[0m, in \u001b[0;36mSparkSession.sql\u001b[0;34m(self, sqlQuery, args, **kwargs)\u001b[0m\n\u001b[1;32m   1627\u001b[0m         \u001b[38;5;28;01massert\u001b[39;00m \u001b[38;5;28mself\u001b[39m\u001b[38;5;241m.\u001b[39m_jvm \u001b[38;5;129;01mis\u001b[39;00m \u001b[38;5;129;01mnot\u001b[39;00m \u001b[38;5;28;01mNone\u001b[39;00m\n\u001b[1;32m   1628\u001b[0m         litArgs \u001b[38;5;241m=\u001b[39m \u001b[38;5;28mself\u001b[39m\u001b[38;5;241m.\u001b[39m_jvm\u001b[38;5;241m.\u001b[39mPythonUtils\u001b[38;5;241m.\u001b[39mtoArray(\n\u001b[1;32m   1629\u001b[0m             [_to_java_column(lit(v)) \u001b[38;5;28;01mfor\u001b[39;00m v \u001b[38;5;129;01min\u001b[39;00m (args \u001b[38;5;129;01mor\u001b[39;00m [])]\n\u001b[1;32m   1630\u001b[0m         )\n\u001b[0;32m-> 1631\u001b[0m     \u001b[38;5;28;01mreturn\u001b[39;00m DataFrame(\u001b[38;5;28;43mself\u001b[39;49m\u001b[38;5;241;43m.\u001b[39;49m\u001b[43m_jsparkSession\u001b[49m\u001b[38;5;241;43m.\u001b[39;49m\u001b[43msql\u001b[49m\u001b[43m(\u001b[49m\u001b[43msqlQuery\u001b[49m\u001b[43m,\u001b[49m\u001b[43m \u001b[49m\u001b[43mlitArgs\u001b[49m\u001b[43m)\u001b[49m, \u001b[38;5;28mself\u001b[39m)\n\u001b[1;32m   1632\u001b[0m \u001b[38;5;28;01mfinally\u001b[39;00m:\n\u001b[1;32m   1633\u001b[0m     \u001b[38;5;28;01mif\u001b[39;00m \u001b[38;5;28mlen\u001b[39m(kwargs) \u001b[38;5;241m>\u001b[39m \u001b[38;5;241m0\u001b[39m:\n",
      "File \u001b[0;32m/opt/spark/python/lib/py4j-0.10.9.7-src.zip/py4j/java_gateway.py:1322\u001b[0m, in \u001b[0;36mJavaMember.__call__\u001b[0;34m(self, *args)\u001b[0m\n\u001b[1;32m   1316\u001b[0m command \u001b[38;5;241m=\u001b[39m proto\u001b[38;5;241m.\u001b[39mCALL_COMMAND_NAME \u001b[38;5;241m+\u001b[39m\\\n\u001b[1;32m   1317\u001b[0m     \u001b[38;5;28mself\u001b[39m\u001b[38;5;241m.\u001b[39mcommand_header \u001b[38;5;241m+\u001b[39m\\\n\u001b[1;32m   1318\u001b[0m     args_command \u001b[38;5;241m+\u001b[39m\\\n\u001b[1;32m   1319\u001b[0m     proto\u001b[38;5;241m.\u001b[39mEND_COMMAND_PART\n\u001b[1;32m   1321\u001b[0m answer \u001b[38;5;241m=\u001b[39m \u001b[38;5;28mself\u001b[39m\u001b[38;5;241m.\u001b[39mgateway_client\u001b[38;5;241m.\u001b[39msend_command(command)\n\u001b[0;32m-> 1322\u001b[0m return_value \u001b[38;5;241m=\u001b[39m \u001b[43mget_return_value\u001b[49m\u001b[43m(\u001b[49m\n\u001b[1;32m   1323\u001b[0m \u001b[43m    \u001b[49m\u001b[43manswer\u001b[49m\u001b[43m,\u001b[49m\u001b[43m \u001b[49m\u001b[38;5;28;43mself\u001b[39;49m\u001b[38;5;241;43m.\u001b[39;49m\u001b[43mgateway_client\u001b[49m\u001b[43m,\u001b[49m\u001b[43m \u001b[49m\u001b[38;5;28;43mself\u001b[39;49m\u001b[38;5;241;43m.\u001b[39;49m\u001b[43mtarget_id\u001b[49m\u001b[43m,\u001b[49m\u001b[43m \u001b[49m\u001b[38;5;28;43mself\u001b[39;49m\u001b[38;5;241;43m.\u001b[39;49m\u001b[43mname\u001b[49m\u001b[43m)\u001b[49m\n\u001b[1;32m   1325\u001b[0m \u001b[38;5;28;01mfor\u001b[39;00m temp_arg \u001b[38;5;129;01min\u001b[39;00m temp_args:\n\u001b[1;32m   1326\u001b[0m     \u001b[38;5;28;01mif\u001b[39;00m \u001b[38;5;28mhasattr\u001b[39m(temp_arg, \u001b[38;5;124m\"\u001b[39m\u001b[38;5;124m_detach\u001b[39m\u001b[38;5;124m\"\u001b[39m):\n",
      "File \u001b[0;32m/opt/spark/python/pyspark/errors/exceptions/captured.py:185\u001b[0m, in \u001b[0;36mcapture_sql_exception.<locals>.deco\u001b[0;34m(*a, **kw)\u001b[0m\n\u001b[1;32m    181\u001b[0m converted \u001b[38;5;241m=\u001b[39m convert_exception(e\u001b[38;5;241m.\u001b[39mjava_exception)\n\u001b[1;32m    182\u001b[0m \u001b[38;5;28;01mif\u001b[39;00m \u001b[38;5;129;01mnot\u001b[39;00m \u001b[38;5;28misinstance\u001b[39m(converted, UnknownException):\n\u001b[1;32m    183\u001b[0m     \u001b[38;5;66;03m# Hide where the exception came from that shows a non-Pythonic\u001b[39;00m\n\u001b[1;32m    184\u001b[0m     \u001b[38;5;66;03m# JVM exception message.\u001b[39;00m\n\u001b[0;32m--> 185\u001b[0m     \u001b[38;5;28;01mraise\u001b[39;00m converted \u001b[38;5;28;01mfrom\u001b[39;00m\u001b[38;5;250m \u001b[39m\u001b[38;5;28;01mNone\u001b[39;00m\n\u001b[1;32m    186\u001b[0m \u001b[38;5;28;01melse\u001b[39;00m:\n\u001b[1;32m    187\u001b[0m     \u001b[38;5;28;01mraise\u001b[39;00m\n",
      "\u001b[0;31mParseException\u001b[0m: \n[PARSE_SYNTAX_ERROR] Syntax error at or near '/': extra input '/'.(line 3, pos 0)\n\n== SQL ==\n\nDROP TABLE nyc.meraki_31_latency;\n//DROP TABLE nyc.meraki_latency;\n^^^\n"
     ]
    }
   ],
   "source": [
    "%%sql\n",
    "\n",
    "DROP TABLE nyc.meraki_latency;\n"
   ]
  },
  {
   "cell_type": "code",
   "execution_count": 16,
   "id": "254f5db4",
   "metadata": {},
   "outputs": [
    {
     "data": {
      "text/html": [
       "<table>\n",
       "    <thead>\n",
       "        <tr>\n",
       "        </tr>\n",
       "    </thead>\n",
       "    <tbody>\n",
       "    </tbody>\n",
       "</table>"
      ],
      "text/plain": [
       "++\n",
       "||\n",
       "++\n",
       "++"
      ]
     },
     "execution_count": 16,
     "metadata": {},
     "output_type": "execute_result"
    }
   ],
   "source": [
    "%%sql\n",
    "\n",
    "DROP TABLE nyc.meraki_31_latency;\n"
   ]
  },
  {
   "cell_type": "code",
   "execution_count": null,
   "id": "acf06121",
   "metadata": {},
   "outputs": [],
   "source": []
  },
  {
   "cell_type": "code",
   "execution_count": 7,
   "id": "411c8c53-ca5f-492a-921e-228e1130b78e",
   "metadata": {},
   "outputs": [],
   "source": [
    "df2 = spark.read.schema(schema).json(\"s3a://ingress/cisco-meraki-tmf688-metric-latency_data.31.jsonl.gz\");\n",
    "#df2 = spark.read.schema(schema).json(\"s3a://ingress/cisco-meraki-tmf688-metric-latency_data.34.jsonl.gz\");\n",
    "#df2 = spark.read.schema(schema).json(\"s3a://ingress/cisco-meraki-tmf688-metric-latency_data.51.jsonl.gz\");\n"
   ]
  },
  {
   "cell_type": "code",
   "execution_count": 8,
   "id": "026051d9-8652-4fad-b79e-e04e5f61946c",
   "metadata": {},
   "outputs": [
    {
     "data": {
      "text/plain": [
       "Row(_source=Row(customer='Belron Germany', customerID='ACCTV0017956', eventId='b1a56627-dda7-419f-a37e-6fc276c41dfd', eventTime=datetime.datetime(2024, 12, 20, 12, 45, 53), metricTimestamp=datetime.datetime(2024, 12, 20, 12, 35, 53), domain='Fixed Connectivity', resource='node=VF1502-7131-GW-P$$interface=wan1(Q2JY-S4K9-QQJ2)$$remoteinterface=wan1(Q2CZ-7N4R-VMUD)$$remotenode=AWS-VMX1-HUB1', metricName='Latency', metricValue=16.0, deviceName='VF1502-7131-GW-P', destDeviceName='AWS-VMX1-HUB1', interfaceName='wan1(Q2JY-S4K9-QQJ2)', destInterfaceName='wan1(Q2CZ-7N4R-VMUD)'))"
      ]
     },
     "execution_count": 8,
     "metadata": {},
     "output_type": "execute_result"
    }
   ],
   "source": [
    "df2.head()"
   ]
  },
  {
   "cell_type": "code",
   "execution_count": 9,
   "id": "d87e202c-0225-45f0-b0fa-4a5e1e3f91be",
   "metadata": {},
   "outputs": [
    {
     "name": "stderr",
     "output_type": "stream",
     "text": [
      "                                                                                \r"
     ]
    },
    {
     "data": {
      "text/plain": [
       "1095863"
      ]
     },
     "execution_count": 9,
     "metadata": {},
     "output_type": "execute_result"
    }
   ],
   "source": [
    "df2.count()"
   ]
  },
  {
   "cell_type": "code",
   "execution_count": 10,
   "id": "5701519a-e886-4da2-a47a-8730ef2ebd4e",
   "metadata": {},
   "outputs": [],
   "source": [
    "\n",
    "\n",
    "df3 = df2.select(df2._source.customer.alias(\"customer\"), \n",
    "           df2._source.eventId.alias(\"eventId\"),\n",
    "           df2._source.metricTimestamp.alias(\"eventTime\"),           \n",
    "           df2._source.eventTime.alias(\"timeReceived\"),\n",
    "           df2._source.resource.alias(\"source_id\"),\n",
    "           sf.create_map([\n",
    "               sf.lit(\"customerID\"),        df2._source.customerID,                \n",
    "           ]).alias(\"source_labels\"),\n",
    "           df2._source.metricName.alias(\"metric_name\"),\n",
    "           df2._source.metricValue.alias(\"metric_value\"),\n",
    "           sf.create_map([\n",
    "               sf.lit(\"deviceName\"),        df2._source.deviceName, \n",
    "               sf.lit(\"destDeviceName\"),    df2._source.destDeviceName,\n",
    "               sf.lit(\"interfaceName\"),     df2._source.interfaceName, \n",
    "               sf.lit(\"destInterfaceName\"), df2._source.destInterfaceName,               \n",
    "           ]).alias(\"metric_labels\")\n",
    "          )\n",
    "\n"
   ]
  },
  {
   "cell_type": "code",
   "execution_count": 11,
   "id": "a7cfd214-736f-4c6f-8929-cd222ce7ac09",
   "metadata": {},
   "outputs": [
    {
     "data": {
      "text/plain": [
       "Row(customer='Belron Germany', eventId='b1a56627-dda7-419f-a37e-6fc276c41dfd', eventTime=datetime.datetime(2024, 12, 20, 12, 35, 53), timeReceived=datetime.datetime(2024, 12, 20, 12, 45, 53), source_id='node=VF1502-7131-GW-P$$interface=wan1(Q2JY-S4K9-QQJ2)$$remoteinterface=wan1(Q2CZ-7N4R-VMUD)$$remotenode=AWS-VMX1-HUB1', source_labels={'customerID': 'ACCTV0017956'}, metric_name='Latency', metric_value=16.0, metric_labels={'destDeviceName': 'AWS-VMX1-HUB1', 'interfaceName': 'wan1(Q2JY-S4K9-QQJ2)', 'deviceName': 'VF1502-7131-GW-P', 'destInterfaceName': 'wan1(Q2CZ-7N4R-VMUD)'})"
      ]
     },
     "execution_count": 11,
     "metadata": {},
     "output_type": "execute_result"
    }
   ],
   "source": [
    "df3.head()"
   ]
  },
  {
   "cell_type": "code",
   "execution_count": 17,
   "id": "0c3c6553-9601-42ac-98f8-0fe3751d9f24",
   "metadata": {},
   "outputs": [
    {
     "name": "stderr",
     "output_type": "stream",
     "text": [
      "                                                                                \r"
     ]
    }
   ],
   "source": [
    "df3.write.saveAsTable(\"nyc.meraki_31_latency\")\n",
    "#df3.write.insertInto(\"nyc.meraki_latency\")\n"
   ]
  },
  {
   "cell_type": "code",
   "execution_count": 18,
   "id": "a6008b9b-5406-4701-965b-35f65f21e0ed",
   "metadata": {},
   "outputs": [
    {
     "data": {
      "text/html": [
       "<table>\n",
       "    <thead>\n",
       "        <tr>\n",
       "            <th>col_name</th>\n",
       "            <th>data_type</th>\n",
       "            <th>comment</th>\n",
       "        </tr>\n",
       "    </thead>\n",
       "    <tbody>\n",
       "        <tr>\n",
       "            <td>customer</td>\n",
       "            <td>string</td>\n",
       "            <td>None</td>\n",
       "        </tr>\n",
       "        <tr>\n",
       "            <td>eventId</td>\n",
       "            <td>string</td>\n",
       "            <td>None</td>\n",
       "        </tr>\n",
       "        <tr>\n",
       "            <td>eventTime</td>\n",
       "            <td>timestamp</td>\n",
       "            <td>None</td>\n",
       "        </tr>\n",
       "        <tr>\n",
       "            <td>timeReceived</td>\n",
       "            <td>timestamp</td>\n",
       "            <td>None</td>\n",
       "        </tr>\n",
       "        <tr>\n",
       "            <td>source_id</td>\n",
       "            <td>string</td>\n",
       "            <td>None</td>\n",
       "        </tr>\n",
       "        <tr>\n",
       "            <td>source_labels</td>\n",
       "            <td>map&lt;string,string&gt;</td>\n",
       "            <td>None</td>\n",
       "        </tr>\n",
       "        <tr>\n",
       "            <td>metric_name</td>\n",
       "            <td>string</td>\n",
       "            <td>None</td>\n",
       "        </tr>\n",
       "        <tr>\n",
       "            <td>metric_value</td>\n",
       "            <td>double</td>\n",
       "            <td>None</td>\n",
       "        </tr>\n",
       "        <tr>\n",
       "            <td>metric_labels</td>\n",
       "            <td>map&lt;string,string&gt;</td>\n",
       "            <td>None</td>\n",
       "        </tr>\n",
       "    </tbody>\n",
       "</table>"
      ],
      "text/plain": [
       "+---------------+--------------------+---------+\n",
       "|      col_name |          data_type | comment |\n",
       "+---------------+--------------------+---------+\n",
       "|      customer |             string |    None |\n",
       "|       eventId |             string |    None |\n",
       "|     eventTime |          timestamp |    None |\n",
       "|  timeReceived |          timestamp |    None |\n",
       "|     source_id |             string |    None |\n",
       "| source_labels | map<string,string> |    None |\n",
       "|   metric_name |             string |    None |\n",
       "|  metric_value |             double |    None |\n",
       "| metric_labels | map<string,string> |    None |\n",
       "+---------------+--------------------+---------+"
      ]
     },
     "execution_count": 18,
     "metadata": {},
     "output_type": "execute_result"
    }
   ],
   "source": [
    "%%sql\n",
    "\n",
    "DESCRIBE TABLE nyc.meraki_latency;"
   ]
  },
  {
   "cell_type": "code",
   "execution_count": 19,
   "id": "6d073df0-9ec2-403d-97be-5cc8abf74289",
   "metadata": {},
   "outputs": [
    {
     "data": {
      "text/html": [
       "<table>\n",
       "    <thead>\n",
       "        <tr>\n",
       "            <th>source_id</th>\n",
       "            <th>source_labels</th>\n",
       "        </tr>\n",
       "    </thead>\n",
       "    <tbody>\n",
       "        <tr>\n",
       "            <td>node=VF1502-7131-GW-P$$interface=wan1(Q2JY-S4K9-QQJ2)$$remoteinterface=wan1(Q2CZ-7N4R-VMUD)$$remotenode=AWS-VMX1-HUB1</td>\n",
       "            <td>{&#x27;customerID&#x27;: &#x27;ACCTV0017956&#x27;}</td>\n",
       "        </tr>\n",
       "        <tr>\n",
       "            <td>node=VF1502-7131-GW-P$$interface=wan1(Q2JY-S4K9-QQJ2)$$remoteinterface=wan1(Q2CZ-7N4R-VMUD)$$remotenode=AWS-VMX1-HUB1</td>\n",
       "            <td>{&#x27;customerID&#x27;: &#x27;ACCTV0017956&#x27;}</td>\n",
       "        </tr>\n",
       "        <tr>\n",
       "            <td>node=VF1502-7131-GW-P$$interface=wan1(Q2JY-S4K9-QQJ2)$$remoteinterface=wan1(Q2CZ-7N4R-VMUD)$$remotenode=AWS-VMX1-HUB1</td>\n",
       "            <td>{&#x27;customerID&#x27;: &#x27;ACCTV0017956&#x27;}</td>\n",
       "        </tr>\n",
       "        <tr>\n",
       "            <td>node=VF1502-7131-GW-P$$interface=wan1(Q2JY-S4K9-QQJ2)$$remoteinterface=wan1(Q2CZ-Z37T-BGKT)$$remotenode=AWS-VMX2-HUB2</td>\n",
       "            <td>{&#x27;customerID&#x27;: &#x27;ACCTV0017956&#x27;}</td>\n",
       "        </tr>\n",
       "        <tr>\n",
       "            <td>node=VF1502-7131-GW-P$$interface=wan1(Q2JY-S4K9-QQJ2)$$remoteinterface=wan1(Q2CZ-Z37T-BGKT)$$remotenode=AWS-VMX2-HUB2</td>\n",
       "            <td>{&#x27;customerID&#x27;: &#x27;ACCTV0017956&#x27;}</td>\n",
       "        </tr>\n",
       "        <tr>\n",
       "            <td>node=VF1502-7131-GW-P$$interface=wan1(Q2JY-S4K9-QQJ2)$$remoteinterface=wan1(Q2CZ-Z37T-BGKT)$$remotenode=AWS-VMX2-HUB2</td>\n",
       "            <td>{&#x27;customerID&#x27;: &#x27;ACCTV0017956&#x27;}</td>\n",
       "        </tr>\n",
       "        <tr>\n",
       "            <td>node=VF1502-7331-GW-P$$interface=wan1(Q2JY-D4GY-3RW5)$$remoteinterface=wan1(Q2CZ-7N4R-VMUD)$$remotenode=AWS-VMX1-HUB1</td>\n",
       "            <td>{&#x27;customerID&#x27;: &#x27;ACCTV0017956&#x27;}</td>\n",
       "        </tr>\n",
       "        <tr>\n",
       "            <td>node=VF1502-7331-GW-P$$interface=wan1(Q2JY-D4GY-3RW5)$$remoteinterface=wan1(Q2CZ-7N4R-VMUD)$$remotenode=AWS-VMX1-HUB1</td>\n",
       "            <td>{&#x27;customerID&#x27;: &#x27;ACCTV0017956&#x27;}</td>\n",
       "        </tr>\n",
       "        <tr>\n",
       "            <td>node=VF1502-7331-GW-P$$interface=wan1(Q2JY-D4GY-3RW5)$$remoteinterface=wan1(Q2CZ-7N4R-VMUD)$$remotenode=AWS-VMX1-HUB1</td>\n",
       "            <td>{&#x27;customerID&#x27;: &#x27;ACCTV0017956&#x27;}</td>\n",
       "        </tr>\n",
       "        <tr>\n",
       "            <td>node=VF1502-7331-GW-P$$interface=wan1(Q2JY-D4GY-3RW5)$$remoteinterface=wan1(Q2CZ-Z37T-BGKT)$$remotenode=AWS-VMX2-HUB2</td>\n",
       "            <td>{&#x27;customerID&#x27;: &#x27;ACCTV0017956&#x27;}</td>\n",
       "        </tr>\n",
       "        <tr>\n",
       "            <td>node=VF1502-7331-GW-P$$interface=wan1(Q2JY-D4GY-3RW5)$$remoteinterface=wan1(Q2CZ-Z37T-BGKT)$$remotenode=AWS-VMX2-HUB2</td>\n",
       "            <td>{&#x27;customerID&#x27;: &#x27;ACCTV0017956&#x27;}</td>\n",
       "        </tr>\n",
       "        <tr>\n",
       "            <td>node=VF1502-7331-GW-P$$interface=wan1(Q2JY-D4GY-3RW5)$$remoteinterface=wan1(Q2CZ-Z37T-BGKT)$$remotenode=AWS-VMX2-HUB2</td>\n",
       "            <td>{&#x27;customerID&#x27;: &#x27;ACCTV0017956&#x27;}</td>\n",
       "        </tr>\n",
       "        <tr>\n",
       "            <td>node=VF1502-7231-GW-P$$interface=wan1(Q2JY-Y9DW-ZBN8)$$remoteinterface=wan1(Q2CZ-7N4R-VMUD)$$remotenode=AWS-VMX1-HUB1</td>\n",
       "            <td>{&#x27;customerID&#x27;: &#x27;ACCTV0017956&#x27;}</td>\n",
       "        </tr>\n",
       "        <tr>\n",
       "            <td>node=VF1502-7231-GW-P$$interface=wan1(Q2JY-Y9DW-ZBN8)$$remoteinterface=wan1(Q2CZ-7N4R-VMUD)$$remotenode=AWS-VMX1-HUB1</td>\n",
       "            <td>{&#x27;customerID&#x27;: &#x27;ACCTV0017956&#x27;}</td>\n",
       "        </tr>\n",
       "        <tr>\n",
       "            <td>node=VF1502-7231-GW-P$$interface=wan1(Q2JY-Y9DW-ZBN8)$$remoteinterface=wan1(Q2CZ-7N4R-VMUD)$$remotenode=AWS-VMX1-HUB1</td>\n",
       "            <td>{&#x27;customerID&#x27;: &#x27;ACCTV0017956&#x27;}</td>\n",
       "        </tr>\n",
       "        <tr>\n",
       "            <td>node=VF1502-7231-GW-P$$interface=wan1(Q2JY-Y9DW-ZBN8)$$remoteinterface=wan1(Q2CZ-Z37T-BGKT)$$remotenode=AWS-VMX2-HUB2</td>\n",
       "            <td>{&#x27;customerID&#x27;: &#x27;ACCTV0017956&#x27;}</td>\n",
       "        </tr>\n",
       "        <tr>\n",
       "            <td>node=VF1502-7231-GW-P$$interface=wan1(Q2JY-Y9DW-ZBN8)$$remoteinterface=wan1(Q2CZ-Z37T-BGKT)$$remotenode=AWS-VMX2-HUB2</td>\n",
       "            <td>{&#x27;customerID&#x27;: &#x27;ACCTV0017956&#x27;}</td>\n",
       "        </tr>\n",
       "        <tr>\n",
       "            <td>node=VF1502-7231-GW-P$$interface=wan1(Q2JY-Y9DW-ZBN8)$$remoteinterface=wan1(Q2CZ-Z37T-BGKT)$$remotenode=AWS-VMX2-HUB2</td>\n",
       "            <td>{&#x27;customerID&#x27;: &#x27;ACCTV0017956&#x27;}</td>\n",
       "        </tr>\n",
       "        <tr>\n",
       "            <td>node=VF1502-7031-GW-P$$interface=wan1(Q2JY-5KSC-MZWJ)$$remoteinterface=wan1(Q2CZ-7N4R-VMUD)$$remotenode=AWS-VMX1-HUB1</td>\n",
       "            <td>{&#x27;customerID&#x27;: &#x27;ACCTV0017956&#x27;}</td>\n",
       "        </tr>\n",
       "        <tr>\n",
       "            <td>node=VF1502-7031-GW-P$$interface=wan1(Q2JY-5KSC-MZWJ)$$remoteinterface=wan1(Q2CZ-7N4R-VMUD)$$remotenode=AWS-VMX1-HUB1</td>\n",
       "            <td>{&#x27;customerID&#x27;: &#x27;ACCTV0017956&#x27;}</td>\n",
       "        </tr>\n",
       "    </tbody>\n",
       "</table>"
      ],
      "text/plain": [
       "+-----------------------------------------------------------------------------------------------------------------------+--------------------------------+\n",
       "|                                                                                                             source_id |                  source_labels |\n",
       "+-----------------------------------------------------------------------------------------------------------------------+--------------------------------+\n",
       "| node=VF1502-7131-GW-P$$interface=wan1(Q2JY-S4K9-QQJ2)$$remoteinterface=wan1(Q2CZ-7N4R-VMUD)$$remotenode=AWS-VMX1-HUB1 | {'customerID': 'ACCTV0017956'} |\n",
       "| node=VF1502-7131-GW-P$$interface=wan1(Q2JY-S4K9-QQJ2)$$remoteinterface=wan1(Q2CZ-7N4R-VMUD)$$remotenode=AWS-VMX1-HUB1 | {'customerID': 'ACCTV0017956'} |\n",
       "| node=VF1502-7131-GW-P$$interface=wan1(Q2JY-S4K9-QQJ2)$$remoteinterface=wan1(Q2CZ-7N4R-VMUD)$$remotenode=AWS-VMX1-HUB1 | {'customerID': 'ACCTV0017956'} |\n",
       "| node=VF1502-7131-GW-P$$interface=wan1(Q2JY-S4K9-QQJ2)$$remoteinterface=wan1(Q2CZ-Z37T-BGKT)$$remotenode=AWS-VMX2-HUB2 | {'customerID': 'ACCTV0017956'} |\n",
       "| node=VF1502-7131-GW-P$$interface=wan1(Q2JY-S4K9-QQJ2)$$remoteinterface=wan1(Q2CZ-Z37T-BGKT)$$remotenode=AWS-VMX2-HUB2 | {'customerID': 'ACCTV0017956'} |\n",
       "| node=VF1502-7131-GW-P$$interface=wan1(Q2JY-S4K9-QQJ2)$$remoteinterface=wan1(Q2CZ-Z37T-BGKT)$$remotenode=AWS-VMX2-HUB2 | {'customerID': 'ACCTV0017956'} |\n",
       "| node=VF1502-7331-GW-P$$interface=wan1(Q2JY-D4GY-3RW5)$$remoteinterface=wan1(Q2CZ-7N4R-VMUD)$$remotenode=AWS-VMX1-HUB1 | {'customerID': 'ACCTV0017956'} |\n",
       "| node=VF1502-7331-GW-P$$interface=wan1(Q2JY-D4GY-3RW5)$$remoteinterface=wan1(Q2CZ-7N4R-VMUD)$$remotenode=AWS-VMX1-HUB1 | {'customerID': 'ACCTV0017956'} |\n",
       "| node=VF1502-7331-GW-P$$interface=wan1(Q2JY-D4GY-3RW5)$$remoteinterface=wan1(Q2CZ-7N4R-VMUD)$$remotenode=AWS-VMX1-HUB1 | {'customerID': 'ACCTV0017956'} |\n",
       "| node=VF1502-7331-GW-P$$interface=wan1(Q2JY-D4GY-3RW5)$$remoteinterface=wan1(Q2CZ-Z37T-BGKT)$$remotenode=AWS-VMX2-HUB2 | {'customerID': 'ACCTV0017956'} |\n",
       "| node=VF1502-7331-GW-P$$interface=wan1(Q2JY-D4GY-3RW5)$$remoteinterface=wan1(Q2CZ-Z37T-BGKT)$$remotenode=AWS-VMX2-HUB2 | {'customerID': 'ACCTV0017956'} |\n",
       "| node=VF1502-7331-GW-P$$interface=wan1(Q2JY-D4GY-3RW5)$$remoteinterface=wan1(Q2CZ-Z37T-BGKT)$$remotenode=AWS-VMX2-HUB2 | {'customerID': 'ACCTV0017956'} |\n",
       "| node=VF1502-7231-GW-P$$interface=wan1(Q2JY-Y9DW-ZBN8)$$remoteinterface=wan1(Q2CZ-7N4R-VMUD)$$remotenode=AWS-VMX1-HUB1 | {'customerID': 'ACCTV0017956'} |\n",
       "| node=VF1502-7231-GW-P$$interface=wan1(Q2JY-Y9DW-ZBN8)$$remoteinterface=wan1(Q2CZ-7N4R-VMUD)$$remotenode=AWS-VMX1-HUB1 | {'customerID': 'ACCTV0017956'} |\n",
       "| node=VF1502-7231-GW-P$$interface=wan1(Q2JY-Y9DW-ZBN8)$$remoteinterface=wan1(Q2CZ-7N4R-VMUD)$$remotenode=AWS-VMX1-HUB1 | {'customerID': 'ACCTV0017956'} |\n",
       "| node=VF1502-7231-GW-P$$interface=wan1(Q2JY-Y9DW-ZBN8)$$remoteinterface=wan1(Q2CZ-Z37T-BGKT)$$remotenode=AWS-VMX2-HUB2 | {'customerID': 'ACCTV0017956'} |\n",
       "| node=VF1502-7231-GW-P$$interface=wan1(Q2JY-Y9DW-ZBN8)$$remoteinterface=wan1(Q2CZ-Z37T-BGKT)$$remotenode=AWS-VMX2-HUB2 | {'customerID': 'ACCTV0017956'} |\n",
       "| node=VF1502-7231-GW-P$$interface=wan1(Q2JY-Y9DW-ZBN8)$$remoteinterface=wan1(Q2CZ-Z37T-BGKT)$$remotenode=AWS-VMX2-HUB2 | {'customerID': 'ACCTV0017956'} |\n",
       "| node=VF1502-7031-GW-P$$interface=wan1(Q2JY-5KSC-MZWJ)$$remoteinterface=wan1(Q2CZ-7N4R-VMUD)$$remotenode=AWS-VMX1-HUB1 | {'customerID': 'ACCTV0017956'} |\n",
       "| node=VF1502-7031-GW-P$$interface=wan1(Q2JY-5KSC-MZWJ)$$remoteinterface=wan1(Q2CZ-7N4R-VMUD)$$remotenode=AWS-VMX1-HUB1 | {'customerID': 'ACCTV0017956'} |\n",
       "+-----------------------------------------------------------------------------------------------------------------------+--------------------------------+"
      ]
     },
     "execution_count": 19,
     "metadata": {},
     "output_type": "execute_result"
    }
   ],
   "source": [
    "%%sql\n",
    "\n",
    "SELECT source_id,source_labels from nyc.meraki_latency limit 20;"
   ]
  },
  {
   "cell_type": "code",
   "execution_count": 20,
   "id": "4db66670-5554-42f7-a1dc-18cf3faa21fa",
   "metadata": {},
   "outputs": [
    {
     "data": {
      "text/html": [
       "<table>\n",
       "    <thead>\n",
       "        <tr>\n",
       "            <th>count(1)</th>\n",
       "        </tr>\n",
       "    </thead>\n",
       "    <tbody>\n",
       "        <tr>\n",
       "            <td>1095863</td>\n",
       "        </tr>\n",
       "    </tbody>\n",
       "</table>"
      ],
      "text/plain": [
       "+----------+\n",
       "| count(1) |\n",
       "+----------+\n",
       "|  1095863 |\n",
       "+----------+"
      ]
     },
     "execution_count": 20,
     "metadata": {},
     "output_type": "execute_result"
    }
   ],
   "source": [
    "%%sql\n",
    "\n",
    "select count(*) from nyc.meraki_latency;"
   ]
  },
  {
   "cell_type": "code",
   "execution_count": null,
   "id": "62c4ed8a-c889-492a-a39d-2cb4fd903d3a",
   "metadata": {},
   "outputs": [],
   "source": []
  }
 ],
 "metadata": {
  "kernelspec": {
   "display_name": "Python 3 (ipykernel)",
   "language": "python",
   "name": "python3"
  },
  "language_info": {
   "codemirror_mode": {
    "name": "ipython",
    "version": 3
   },
   "file_extension": ".py",
   "mimetype": "text/x-python",
   "name": "python",
   "nbconvert_exporter": "python",
   "pygments_lexer": "ipython3",
   "version": "3.10.16"
  }
 },
 "nbformat": 4,
 "nbformat_minor": 5
}
