{
 "cells": [
  {
   "cell_type": "code",
   "execution_count": 2,
   "id": "f70844f9-2b12-44fe-bf3b-591d655feaad",
   "metadata": {},
   "outputs": [
    {
     "name": "stderr",
     "output_type": "stream",
     "text": [
      "                                                                                "
     ]
    },
    {
     "data": {
      "text/html": [
       "<table>\n",
       "    <thead>\n",
       "        <tr>\n",
       "            <th>eventTime</th>\n",
       "            <th>metric_value</th>\n",
       "            <th>source_id</th>\n",
       "        </tr>\n",
       "    </thead>\n",
       "    <tbody>\n",
       "        <tr>\n",
       "            <td>2024-12-20 12:35:53</td>\n",
       "            <td>16.0</td>\n",
       "            <td>node=VF1502-7131-GW-P$$interface=wan1(Q2JY-S4K9-QQJ2)$$remoteinterface=wan1(Q2CZ-7N4R-VMUD)$$remotenode=AWS-VMX1-HUB1</td>\n",
       "        </tr>\n",
       "        <tr>\n",
       "            <td>2024-12-20 12:40:53</td>\n",
       "            <td>16.0</td>\n",
       "            <td>node=VF1502-7131-GW-P$$interface=wan1(Q2JY-S4K9-QQJ2)$$remoteinterface=wan1(Q2CZ-7N4R-VMUD)$$remotenode=AWS-VMX1-HUB1</td>\n",
       "        </tr>\n",
       "        <tr>\n",
       "            <td>2024-12-20 12:45:53</td>\n",
       "            <td>16.8</td>\n",
       "            <td>node=VF1502-7131-GW-P$$interface=wan1(Q2JY-S4K9-QQJ2)$$remoteinterface=wan1(Q2CZ-7N4R-VMUD)$$remotenode=AWS-VMX1-HUB1</td>\n",
       "        </tr>\n",
       "        <tr>\n",
       "            <td>2024-12-20 12:35:53</td>\n",
       "            <td>15.0</td>\n",
       "            <td>node=VF1502-7131-GW-P$$interface=wan1(Q2JY-S4K9-QQJ2)$$remoteinterface=wan1(Q2CZ-Z37T-BGKT)$$remotenode=AWS-VMX2-HUB2</td>\n",
       "        </tr>\n",
       "        <tr>\n",
       "            <td>2024-12-20 12:40:53</td>\n",
       "            <td>14.7</td>\n",
       "            <td>node=VF1502-7131-GW-P$$interface=wan1(Q2JY-S4K9-QQJ2)$$remoteinterface=wan1(Q2CZ-Z37T-BGKT)$$remotenode=AWS-VMX2-HUB2</td>\n",
       "        </tr>\n",
       "        <tr>\n",
       "            <td>2024-12-20 12:45:53</td>\n",
       "            <td>15.0</td>\n",
       "            <td>node=VF1502-7131-GW-P$$interface=wan1(Q2JY-S4K9-QQJ2)$$remoteinterface=wan1(Q2CZ-Z37T-BGKT)$$remotenode=AWS-VMX2-HUB2</td>\n",
       "        </tr>\n",
       "        <tr>\n",
       "            <td>2024-12-20 12:35:53</td>\n",
       "            <td>13.3</td>\n",
       "            <td>node=VF1502-7331-GW-P$$interface=wan1(Q2JY-D4GY-3RW5)$$remoteinterface=wan1(Q2CZ-7N4R-VMUD)$$remotenode=AWS-VMX1-HUB1</td>\n",
       "        </tr>\n",
       "        <tr>\n",
       "            <td>2024-12-20 12:40:53</td>\n",
       "            <td>13.0</td>\n",
       "            <td>node=VF1502-7331-GW-P$$interface=wan1(Q2JY-D4GY-3RW5)$$remoteinterface=wan1(Q2CZ-7N4R-VMUD)$$remotenode=AWS-VMX1-HUB1</td>\n",
       "        </tr>\n",
       "        <tr>\n",
       "            <td>2024-12-20 12:45:53</td>\n",
       "            <td>12.0</td>\n",
       "            <td>node=VF1502-7331-GW-P$$interface=wan1(Q2JY-D4GY-3RW5)$$remoteinterface=wan1(Q2CZ-7N4R-VMUD)$$remotenode=AWS-VMX1-HUB1</td>\n",
       "        </tr>\n",
       "        <tr>\n",
       "            <td>2024-12-20 12:35:53</td>\n",
       "            <td>11.0</td>\n",
       "            <td>node=VF1502-7331-GW-P$$interface=wan1(Q2JY-D4GY-3RW5)$$remoteinterface=wan1(Q2CZ-Z37T-BGKT)$$remotenode=AWS-VMX2-HUB2</td>\n",
       "        </tr>\n",
       "    </tbody>\n",
       "</table>"
      ],
      "text/plain": [
       "+---------------------+--------------+-----------------------------------------------------------------------------------------------------------------------+\n",
       "|           eventTime | metric_value |                                                                                                             source_id |\n",
       "+---------------------+--------------+-----------------------------------------------------------------------------------------------------------------------+\n",
       "| 2024-12-20 12:35:53 |         16.0 | node=VF1502-7131-GW-P$$interface=wan1(Q2JY-S4K9-QQJ2)$$remoteinterface=wan1(Q2CZ-7N4R-VMUD)$$remotenode=AWS-VMX1-HUB1 |\n",
       "| 2024-12-20 12:40:53 |         16.0 | node=VF1502-7131-GW-P$$interface=wan1(Q2JY-S4K9-QQJ2)$$remoteinterface=wan1(Q2CZ-7N4R-VMUD)$$remotenode=AWS-VMX1-HUB1 |\n",
       "| 2024-12-20 12:45:53 |         16.8 | node=VF1502-7131-GW-P$$interface=wan1(Q2JY-S4K9-QQJ2)$$remoteinterface=wan1(Q2CZ-7N4R-VMUD)$$remotenode=AWS-VMX1-HUB1 |\n",
       "| 2024-12-20 12:35:53 |         15.0 | node=VF1502-7131-GW-P$$interface=wan1(Q2JY-S4K9-QQJ2)$$remoteinterface=wan1(Q2CZ-Z37T-BGKT)$$remotenode=AWS-VMX2-HUB2 |\n",
       "| 2024-12-20 12:40:53 |         14.7 | node=VF1502-7131-GW-P$$interface=wan1(Q2JY-S4K9-QQJ2)$$remoteinterface=wan1(Q2CZ-Z37T-BGKT)$$remotenode=AWS-VMX2-HUB2 |\n",
       "| 2024-12-20 12:45:53 |         15.0 | node=VF1502-7131-GW-P$$interface=wan1(Q2JY-S4K9-QQJ2)$$remoteinterface=wan1(Q2CZ-Z37T-BGKT)$$remotenode=AWS-VMX2-HUB2 |\n",
       "| 2024-12-20 12:35:53 |         13.3 | node=VF1502-7331-GW-P$$interface=wan1(Q2JY-D4GY-3RW5)$$remoteinterface=wan1(Q2CZ-7N4R-VMUD)$$remotenode=AWS-VMX1-HUB1 |\n",
       "| 2024-12-20 12:40:53 |         13.0 | node=VF1502-7331-GW-P$$interface=wan1(Q2JY-D4GY-3RW5)$$remoteinterface=wan1(Q2CZ-7N4R-VMUD)$$remotenode=AWS-VMX1-HUB1 |\n",
       "| 2024-12-20 12:45:53 |         12.0 | node=VF1502-7331-GW-P$$interface=wan1(Q2JY-D4GY-3RW5)$$remoteinterface=wan1(Q2CZ-7N4R-VMUD)$$remotenode=AWS-VMX1-HUB1 |\n",
       "| 2024-12-20 12:35:53 |         11.0 | node=VF1502-7331-GW-P$$interface=wan1(Q2JY-D4GY-3RW5)$$remoteinterface=wan1(Q2CZ-Z37T-BGKT)$$remotenode=AWS-VMX2-HUB2 |\n",
       "+---------------------+--------------+-----------------------------------------------------------------------------------------------------------------------+"
      ]
     },
     "execution_count": 2,
     "metadata": {},
     "output_type": "execute_result"
    }
   ],
   "source": [
    "%%sql \n",
    "\n",
    "SELECT eventTime,metric_value,source_id FROM nyc.meraki_31_latency LIMIT 10;\n",
    "\n"
   ]
  },
  {
   "cell_type": "code",
   "execution_count": null,
   "id": "905c7ff9-e568-4c76-ba89-6cdd63ad9213",
   "metadata": {},
   "outputs": [],
   "source": []
  }
 ],
 "metadata": {
  "kernelspec": {
   "display_name": "Python 3 (ipykernel)",
   "language": "python",
   "name": "python3"
  },
  "language_info": {
   "codemirror_mode": {
    "name": "ipython",
    "version": 3
   },
   "file_extension": ".py",
   "mimetype": "text/x-python",
   "name": "python",
   "nbconvert_exporter": "python",
   "pygments_lexer": "ipython3",
   "version": "3.10.16"
  }
 },
 "nbformat": 4,
 "nbformat_minor": 5
}
